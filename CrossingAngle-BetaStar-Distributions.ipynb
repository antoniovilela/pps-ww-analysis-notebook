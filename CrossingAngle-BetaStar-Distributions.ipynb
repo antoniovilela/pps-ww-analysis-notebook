{
 "cells": [
  {
   "cell_type": "code",
   "execution_count": null,
   "id": "olive-companion",
   "metadata": {},
   "outputs": [],
   "source": [
    "import ROOT"
   ]
  },
  {
   "cell_type": "code",
   "execution_count": null,
   "id": "ranking-directive",
   "metadata": {},
   "outputs": [],
   "source": [
    "file_ = ROOT.TFile( \"CalibPPS-ESProducers/xangle_beta_distributions/version1.root\", \"READ\" )"
   ]
  },
  {
   "cell_type": "code",
   "execution_count": null,
   "id": "coupled-receiver",
   "metadata": {},
   "outputs": [],
   "source": [
    "# file_.cd( \"2017_preTS2\" )\n",
    "# file_.cd( \"2018_preTS1\" )\n",
    "file_.ls()"
   ]
  },
  {
   "cell_type": "code",
   "execution_count": null,
   "id": "laden-electronics",
   "metadata": {},
   "outputs": [],
   "source": [
    "# h2_betaStar_vs_xangle_ = file_.Get( \"2017_preTS2/h2_betaStar_vs_xangle\" )\n",
    "# h2_betaStar_vs_xangle_ = file_.Get( \"2018_preTS1/h2_betaStar_vs_xangle\" )\n",
    "h2_betaStar_vs_xangle_ = file_.Get( \"2018_TS1_TS2/h2_betaStar_vs_xangle\" )\n",
    "# h2_betaStar_vs_xangle_ = file_.Get( \"2018_postTS2/h2_betaStar_vs_xangle\" )"
   ]
  },
  {
   "cell_type": "code",
   "execution_count": null,
   "id": "sexual-digit",
   "metadata": {},
   "outputs": [],
   "source": [
    "canvas_ = ROOT.TCanvas()\n",
    "h2_betaStar_vs_xangle_.ProjectionX().Draw()\n",
    "canvas_.Draw()"
   ]
  },
  {
   "cell_type": "code",
   "execution_count": 1,
   "id": "expected-bacteria",
   "metadata": {},
   "outputs": [],
   "source": [
    "import uproot\n",
    "import awkward as ak\n",
    "import numpy as np\n",
    "import pandas as pd\n",
    "import matplotlib.pyplot as plt"
   ]
  },
  {
   "cell_type": "code",
   "execution_count": 6,
   "id": "complex-sentence",
   "metadata": {},
   "outputs": [
    {
     "name": "stdout",
     "output_type": "stream",
     "text": [
      "Number of events in tree: 219645\n",
      "['muon_pt', 'muon_eta', 'muon_phi', 'muon_px', 'muon_py', 'muon_pz', 'muon_e', 'muon_charge', 'muon_iso', 'muon_dxy', 'muon_dz', 'electron_pt', 'electron_eta', 'electron_phi', 'electron_dxy', 'electron_dz', 'electron_px', 'electron_py', 'electron_pz', 'electron_e', 'electron_charge', 'met', 'met_x', 'met_y', 'met_phi', 'pfcand_nextracks', 'pfcand_nextracks_noDRl', 'num_bjets_ak8', 'num_bjets_ak4', 'num_jets_ak4', 'recoMWhad', 'recoMWlep', 'recoMWW', 'recoRapidityWW', 'recoWWpt', 'genWWpt', 'dphiWW', 'WLeptonicPt', 'WLeptonicPhi', 'WLeptonicEta', 'jet_pt', 'jet_px', 'jet_py', 'jet_pz', 'jet_energy', 'jet_phi', 'jet_eta', 'jet_mass', 'jet_tau1', 'jet_tau2', 'jet_corrmass', 'jet_vertexz', 'jet_jer_res', 'jet_jer_sf', 'jet_jer_sfup', 'jet_jer_sfdown', 'hlt', 'gen_W_pt', 'gen_W_charge', 'gen_jet_pt', 'gen_jet_phi', 'gen_jet_eta', 'gen_jet_energy', 'nVertices', 'pileupWeight', 'mc_pu_trueinteractions', 'mcWeight', 'run', 'event', 'lumiblock', 'crossingAngle', 'betaStar', 'instLumi', 'pps_track_x', 'pps_track_y', 'pps_track_rpid', 'proton_xi', 'proton_thx', 'proton_thy', 'proton_t', 'proton_ismultirp_', 'proton_rpid', 'proton_arm', 'proton_time', 'proton_trackx1', 'proton_tracky1', 'proton_trackx2', 'proton_tracky2', 'proton_trackpixshift1', 'proton_trackpixshift2', 'proton_rpid1', 'proton_rpid2', 'gen_proton_px', 'gen_proton_py', 'gen_proton_pz', 'gen_proton_energy', 'gen_proton_xi', 'gen_proton_t']\n"
     ]
    }
   ],
   "source": [
    "# fileName_ = \"/eos/user/a/antoniov/Workspace/analysis/data/PPS/SingleMuon-Run2018A/SingleMuon-Run2018A_merged.root\"\n",
    "fileName_ = \"/eos/user/a/antoniov/Workspace/analysis/data/PPS/SingleMuon-Run2018B/SingleMuon-Run2018B_merged.root\"\n",
    "# fileName_ = \"/eos/user/a/antoniov/Workspace/analysis/data/PPS/SingleMuon-Run2018C/SingleMuon-Run2018C_merged.root\"\n",
    "# fileName_ = \"/eos/user/a/antoniov/Workspace/analysis/data/PPS/SingleMuon-Run2018D/SingleMuon-Run2018D_merged.root\"\n",
    "\n",
    "root_ = uproot.open( fileName_ )\n",
    "\n",
    "# tree_path_ = \"demo/SlimmedNtuple\"\n",
    "tree_path_ = \"SlimmedNtuple\"\n",
    "\n",
    "print ( \"Number of events in tree: {}\".format( np.array( root_[ tree_path_ + \"/event\"] ).size ) )\n",
    "\n",
    "print ( root_[ tree_path_ ].keys() )"
   ]
  },
  {
   "cell_type": "code",
   "execution_count": 7,
   "id": "protective-repair",
   "metadata": {},
   "outputs": [
    {
     "name": "stdout",
     "output_type": "stream",
     "text": [
      "[317696 317696 317696 ... 317527 317527 317527]\n",
      "[  55   55   55 ... 1455 1455 1455]\n",
      "[  46143813   45850192   46053749 ... 2079215913 2079223739 2079634299]\n",
      "[160. 160. 160. ... 136. 136. 136.]\n"
     ]
    }
   ],
   "source": [
    "arr_run = np.array( root_[ tree_path_ + \"/run\"] )\n",
    "arr_lumiblock = np.array( root_[ tree_path_ + \"/lumiblock\"] )\n",
    "arr_event = np.array( root_[ tree_path_ + \"/event\"] )\n",
    "arr_crossingAngle = np.array( root_[ tree_path_ + \"/crossingAngle\"] )\n",
    "print ( arr_run )\n",
    "print ( arr_lumiblock )\n",
    "print ( arr_event )\n",
    "print ( arr_crossingAngle )"
   ]
  },
  {
   "cell_type": "code",
   "execution_count": 8,
   "id": "digital-cable",
   "metadata": {},
   "outputs": [
    {
     "data": {
      "text/plain": [
       "(array([    0.,     0.,     0.,     0.,     0.,     0.,     0.,     0.,\n",
       "            0.,     0.,     0.,     0.,     0.,     0.,     0., 33010.,\n",
       "         7444.,  9181., 10539., 11236., 11955., 12967., 13544., 14999.,\n",
       "        18167., 15234., 14279., 18787., 10106.,  2974., 15223.,     0.,\n",
       "            0.,     0.,     0.,     0.,     0.,     0.,     0.,     0.,\n",
       "            0.,     0.,     0.,     0.,     0.,     0.,     0.,     0.,\n",
       "            0.,     0.]),\n",
       " array([100., 102., 104., 106., 108., 110., 112., 114., 116., 118., 120.,\n",
       "        122., 124., 126., 128., 130., 132., 134., 136., 138., 140., 142.,\n",
       "        144., 146., 148., 150., 152., 154., 156., 158., 160., 162., 164.,\n",
       "        166., 168., 170., 172., 174., 176., 178., 180., 182., 184., 186.,\n",
       "        188., 190., 192., 194., 196., 198., 200.], dtype=float32),\n",
       " <BarContainer object of 50 artists>)"
      ]
     },
     "execution_count": 8,
     "metadata": {},
     "output_type": "execute_result"
    },
    {
     "data": {
      "image/png": "[encoded data removed]",
      "text/plain": [
       "<Figure size 720x576 with 1 Axes>"
      ]
     },
     "metadata": {
      "needs_background": "light"
     },
     "output_type": "display_data"
    }
   ],
   "source": [
    "fig = plt.figure( figsize=(10,8) )\n",
    "plt.hist( arr_crossingAngle, bins=50, range=(100,200) )"
   ]
  },
  {
   "cell_type": "code",
   "execution_count": null,
   "id": "abstract-ecology",
   "metadata": {},
   "outputs": [],
   "source": []
  }
 ],
 "metadata": {
  "kernelspec": {
   "display_name": "Python 3",
   "language": "python",
   "name": "python3"
  },
  "language_info": {
   "codemirror_mode": {
    "name": "ipython",
    "version": 3
   },
   "file_extension": ".py",
   "mimetype": "text/x-python",
   "name": "python",
   "nbconvert_exporter": "python",
   "pygments_lexer": "ipython3",
   "version": "3.8.6"
  }
 },
 "nbformat": 4,
 "nbformat_minor": 5
}
