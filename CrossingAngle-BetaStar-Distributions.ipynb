{
 "cells": [
  {
   "cell_type": "code",
   "execution_count": 1,
   "id": "interstate-fraud",
   "metadata": {},
   "outputs": [
    {
     "name": "stdout",
     "output_type": "stream",
     "text": [
      "Welcome to JupyROOT 6.24/00\n"
     ]
    }
   ],
   "source": [
    "import ROOT"
   ]
  },
  {
   "cell_type": "code",
   "execution_count": 2,
   "id": "initial-stocks",
   "metadata": {},
   "outputs": [],
   "source": [
    "file_ = ROOT.TFile( \"CalibPPS-ESProducers/xangle_beta_distributions/version1.root\", \"READ\" )"
   ]
  },
  {
   "cell_type": "code",
   "execution_count": 3,
   "id": "enabling-texas",
   "metadata": {},
   "outputs": [
    {
     "name": "stdout",
     "output_type": "stream",
     "text": [
      "TFile**\t\tCalibPPS-ESProducers/xangle_beta_distributions/version1.root\t\n",
      " TFile*\t\tCalibPPS-ESProducers/xangle_beta_distributions/version1.root\t\n",
      "  TDirectoryFile*\t\t2017_preTS2\t2017_preTS2\n",
      "   KEY: TH2D\th2_betaStar_vs_xangle;1\t\n",
      "  KEY: TDirectoryFile\t2016_preTS2;1\t2016_preTS2\n",
      "  KEY: TDirectoryFile\t2016_postTS2;1\t2016_postTS2\n",
      "  KEY: TDirectoryFile\t2017_preTS2;1\t2017_preTS2\n",
      "  KEY: TDirectoryFile\t2017_postTS2;1\t2017_postTS2\n",
      "  KEY: TDirectoryFile\t2018_preTS1;1\t2018_preTS1\n",
      "  KEY: TDirectoryFile\t2018_TS1_TS2;1\t2018_TS1_TS2\n",
      "  KEY: TDirectoryFile\t2018_postTS2;1\t2018_postTS2\n",
      "  KEY: TDirectoryFile\t2021;1\t2021\n"
     ]
    }
   ],
   "source": [
    "file_.cd( \"2017_preTS2\" )\n",
    "file_.ls()"
   ]
  },
  {
   "cell_type": "code",
   "execution_count": 4,
   "id": "clinical-visibility",
   "metadata": {},
   "outputs": [],
   "source": [
    "h2_betaStar_vs_xangle_ = file_.Get( \"2017_preTS2/h2_betaStar_vs_xangle\" )"
   ]
  },
  {
   "cell_type": "code",
   "execution_count": 5,
   "id": "useful-trance",
   "metadata": {},
   "outputs": [
    {
     "data": {
      "image/png": "[encoded data removed]",
      "text/plain": [
       "<IPython.core.display.Image object>"
      ]
     },
     "metadata": {},
     "output_type": "display_data"
    }
   ],
   "source": [
    "canvas_ = ROOT.TCanvas()\n",
    "h2_betaStar_vs_xangle_.ProjectionX().Draw()\n",
    "canvas_.Draw()"
   ]
  },
  {
   "cell_type": "code",
   "execution_count": null,
   "id": "center-modeling",
   "metadata": {},
   "outputs": [],
   "source": []
  }
 ],
 "metadata": {
  "kernelspec": {
   "display_name": "Python 3",
   "language": "python",
   "name": "python3"
  },
  "language_info": {
   "codemirror_mode": {
    "name": "ipython",
    "version": 3
   },
   "file_extension": ".py",
   "mimetype": "text/x-python",
   "name": "python",
   "nbconvert_exporter": "python",
   "pygments_lexer": "ipython3",
   "version": "3.8.6"
  }
 },
 "nbformat": 4,
 "nbformat_minor": 5
}
