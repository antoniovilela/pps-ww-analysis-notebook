{
 "cells": [
  {
   "cell_type": "code",
   "execution_count": 1,
   "id": "stock-local",
   "metadata": {},
   "outputs": [
    {
     "name": "stdout",
     "output_type": "stream",
     "text": [
      "Welcome to JupyROOT 6.24/00\n"
     ]
    }
   ],
   "source": [
    "import numpy as np\n",
    "import ROOT\n",
    "\n",
    "file_prefiring_maps = ROOT.TFile.Open( \"l1_prefiring/JetPrefiringMapsperIOV_EOY.root\", \"READ\" )"
   ]
  },
  {
   "cell_type": "code",
   "execution_count": 2,
   "id": "infinite-michael",
   "metadata": {},
   "outputs": [
    {
     "name": "stdout",
     "output_type": "stream",
     "text": [
      "TFile**\t\tl1_prefiring/JetPrefiringMapsperIOV_EOY.root\t\n",
      " TFile*\t\tl1_prefiring/JetPrefiringMapsperIOV_EOY.root\t\n",
      "  KEY: TH2F\tL1prefiring_jetpt_2016BCD;1\t\n",
      "  KEY: TH2F\tL1prefiring_jetpt_2016EF;1\t\n",
      "  KEY: TH2F\tL1prefiring_jetpt_2016FGH;1\t\n",
      "  KEY: TH2F\tL1prefiring_jetpt_2017B;1\t\n",
      "  KEY: TH2F\tL1prefiring_jetpt_2017C;1\t\n",
      "  KEY: TH2F\tL1prefiring_jetpt_2017D;1\t\n",
      "  KEY: TH2F\tL1prefiring_jetpt_2017E;1\t\n",
      "  KEY: TH2F\tL1prefiring_jetpt_2017F;1\t\n"
     ]
    }
   ],
   "source": [
    "file_prefiring_maps.ls()"
   ]
  },
  {
   "cell_type": "code",
   "execution_count": 40,
   "id": "herbal-arcade",
   "metadata": {},
   "outputs": [
    {
     "data": {
      "text/plain": [
       "<cppyy.gbl.TH2F object at 0x14b0a00>"
      ]
     },
     "execution_count": 40,
     "metadata": {},
     "output_type": "execute_result"
    }
   ],
   "source": [
    "h_L1prefiring_jetpt_ = file_prefiring_maps.Get( \"L1prefiring_jetpt_2017F\" )\n",
    "h_L1prefiring_jetpt_"
   ]
  },
  {
   "cell_type": "code",
   "execution_count": 41,
   "id": "intensive-hundred",
   "metadata": {},
   "outputs": [
    {
     "name": "stderr",
     "output_type": "stream",
     "text": [
      "Warning in <TCanvas::Constructor>: Deleting canvas with same name: canvas1\n"
     ]
    },
    {
     "data": {
      "image/png": "[encoded data removed]",
      "text/plain": [
       "<IPython.core.display.Image object>"
      ]
     },
     "metadata": {},
     "output_type": "display_data"
    }
   ],
   "source": [
    "canvas1 = ROOT.TCanvas( \"canvas1\" )\n",
    "h_L1prefiring_jetpt_.Draw( \"COLZ\" )\n",
    "canvas1.Draw()"
   ]
  },
  {
   "cell_type": "code",
   "execution_count": 42,
   "id": "welcome-eagle",
   "metadata": {},
   "outputs": [
    {
     "name": "stdout",
     "output_type": "stream",
     "text": [
      "7 13\n",
      "-5.0 -3.0\n",
      "-3.0 -2.5\n",
      "-2.5 -2.0\n",
      "-2.0 2.0\n",
      "2.0 2.5\n",
      "2.5 3.0\n",
      "3.0 5.0\n",
      "10.0 15.0\n",
      "15.0 20.0\n",
      "20.0 25.0\n",
      "25.0 30.0\n",
      "30.0 35.0\n",
      "35.0 40.0\n",
      "40.0 50.0\n",
      "50.0 70.0\n",
      "70.0 100.0\n",
      "100.0 150.0\n",
      "150.0 200.0\n",
      "200.0 300.0\n",
      "300.0 500.0\n"
     ]
    }
   ],
   "source": [
    "nBinsX_ = h_L1prefiring_jetpt_.GetNbinsX()\n",
    "nBinsY_ = h_L1prefiring_jetpt_.GetNbinsY()\n",
    "print ( nBinsX_, nBinsY_)\n",
    "for bin_ in range( 1, nBinsX_ + 1 ):\n",
    "    print ( h_L1prefiring_jetpt_.GetXaxis().GetBinLowEdge( bin_ ), h_L1prefiring_jetpt_.GetXaxis().GetBinUpEdge( bin_ ) )\n",
    "for bin_ in range( 1, nBinsY_ + 1 ):\n",
    "    print ( h_L1prefiring_jetpt_.GetYaxis().GetBinLowEdge( bin_ ), h_L1prefiring_jetpt_.GetYaxis().GetBinUpEdge( bin_ ) )"
   ]
  },
  {
   "cell_type": "code",
   "execution_count": 43,
   "id": "affected-touch",
   "metadata": {},
   "outputs": [
    {
     "data": {
      "text/plain": [
       "0.02946593053638935"
      ]
     },
     "execution_count": 43,
     "metadata": {},
     "output_type": "execute_result"
    }
   ],
   "source": [
    "eta_ = -3.\n",
    "pt_ = 50.\n",
    "bin2D_ = h_L1prefiring_jetpt_.FindBin( eta_, pt_ )\n",
    "h_L1prefiring_jetpt_.GetBinContent( bin2D_ )"
   ]
  },
  {
   "cell_type": "code",
   "execution_count": 63,
   "id": "significant-reaction",
   "metadata": {},
   "outputs": [],
   "source": [
    "class L1PrefiringProb:\n",
    "    def __init__( self, histos ):\n",
    "        self.histos_ = histos\n",
    "        self.jet_min_pt_ = 20.\n",
    "        self.jet_max_pt_ = 500.\n",
    "        self.jet_min_eta_ = 2.\n",
    "        self.jet_max_eta_ = 3.\n",
    "    def __call__( self, pt, eta, data_period ):\n",
    "        prob_ = 0.\n",
    "        unc_ = 0.\n",
    "        if ( ( np.abs( eta ) >= self.jet_min_eta_ ) and\n",
    "             ( np.abs( eta ) <= self.jet_max_eta_ ) and\n",
    "             ( pt >= self.jet_min_pt_ ) and\n",
    "             ( pt <= self.jet_max_pt_ ) ):\n",
    "            h_L1prefiring_ = self.histos_[ data_period ]\n",
    "            bin2D_ = h_L1prefiring_.FindBin( eta, pt )\n",
    "            prob_ = h_L1prefiring_.GetBinContent( bin2D_ )\n",
    "            prob_ = np.min( ( prob_, 1. ) )\n",
    "            err_ = h_L1prefiring_.GetBinError( bin2D_ )\n",
    "            unc_ = np.sqrt( err_ ** 2 + ( 0.20 * prob_ ) ** 2 )\n",
    "        return ( prob_, unc_ )"
   ]
  },
  {
   "cell_type": "code",
   "execution_count": 64,
   "id": "african-recall",
   "metadata": {},
   "outputs": [
    {
     "data": {
      "text/plain": [
       "{'2016BCD': <cppyy.gbl.TH2F object at 0x86e0930>,\n",
       " '2016EF': <cppyy.gbl.TH2F object at 0x86f54a0>,\n",
       " '2016FGH': <cppyy.gbl.TH2F object at 0x86f4fd0>,\n",
       " '2017B': <cppyy.gbl.TH2F object at 0x78ec3e0>,\n",
       " '2017C': <cppyy.gbl.TH2F object at 0x86f6920>,\n",
       " '2017D': <cppyy.gbl.TH2F object at 0x86e4990>,\n",
       " '2017E': <cppyy.gbl.TH2F object at 0x86f5cf0>,\n",
       " '2017F': <cppyy.gbl.TH2F object at 0x14b0a00>}"
      ]
     },
     "execution_count": 64,
     "metadata": {},
     "output_type": "execute_result"
    }
   ],
   "source": [
    "periods = [ \"2016BCD\", \"2016EF\", \"2016FGH\", \"2017B\", \"2017C\", \"2017D\", \"2017E\", \"2017F\" ]\n",
    "histos = {}\n",
    "for period_ in periods:\n",
    "    histos[ period_ ] = file_prefiring_maps.Get( \"L1prefiring_jetpt_\" + period_ )\n",
    "histos"
   ]
  },
  {
   "cell_type": "code",
   "execution_count": 65,
   "id": "light-forge",
   "metadata": {},
   "outputs": [],
   "source": [
    "l1_prefiring_prob_ = L1PrefiringProb( histos=histos )"
   ]
  },
  {
   "cell_type": "code",
   "execution_count": 79,
   "id": "academic-dollar",
   "metadata": {},
   "outputs": [
    {
     "data": {
      "text/plain": [
       "(0.20476190745830536, 0.04321346557183005)"
      ]
     },
     "execution_count": 79,
     "metadata": {},
     "output_type": "execute_result"
    }
   ],
   "source": [
    "period_ = \"2017F\"\n",
    "eta_ = -2.5\n",
    "pt_ = 400.\n",
    "l1_prefiring_prob_( pt_, eta_, period_ )"
   ]
  },
  {
   "cell_type": "code",
   "execution_count": null,
   "id": "optical-surface",
   "metadata": {},
   "outputs": [],
   "source": []
  }
 ],
 "metadata": {
  "kernelspec": {
   "display_name": "Python 3",
   "language": "python",
   "name": "python3"
  },
  "language_info": {
   "codemirror_mode": {
    "name": "ipython",
    "version": 3
   },
   "file_extension": ".py",
   "mimetype": "text/x-python",
   "name": "python",
   "nbconvert_exporter": "python",
   "pygments_lexer": "ipython3",
   "version": "3.8.6"
  }
 },
 "nbformat": 4,
 "nbformat_minor": 5
}
