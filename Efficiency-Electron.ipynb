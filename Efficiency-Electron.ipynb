{
 "cells": [
  {
   "cell_type": "code",
   "execution_count": 1,
   "id": "interim-somewhere",
   "metadata": {},
   "outputs": [
    {
     "name": "stdout",
     "output_type": "stream",
     "text": [
      "Welcome to JupyROOT 6.24/00\n"
     ]
    }
   ],
   "source": [
    "import numpy as np\n",
    "import ROOT\n",
    "\n",
    "# file_eff_EleID = ROOT.TFile.Open( \"efficiencies/electron/2017_ElectronTight.root\", \"READ\" )\n",
    "# file_eff_EleID = ROOT.TFile.Open( \"efficiencies/electron/2017/2017_ElectronTight.root\", \"READ\" )\n",
    "file_eff_EleID = ROOT.TFile.Open( \"efficiencies/electron/2018/2018_ElectronTight.root\", \"READ\" )"
   ]
  },
  {
   "cell_type": "code",
   "execution_count": 2,
   "id": "pressing-board",
   "metadata": {},
   "outputs": [
    {
     "name": "stdout",
     "output_type": "stream",
     "text": [
      "TFile**\t\tefficiencies/electron/2018/2018_ElectronTight.root\t\n",
      " TFile*\t\tefficiencies/electron/2018/2018_ElectronTight.root\t\n",
      "  KEY: TH2F\tEGamma_SF2D;1\te/#gamma scale factors\n",
      "  KEY: TH2F\tEGamma_EffData2D;1\te/#gamma scale factors\n",
      "  KEY: TH2F\tEGamma_EffMC2D;1\te/#gamma scale factors\n",
      "  KEY: TGraphErrors\tgrSF1D_0;1\tGraph\n",
      "  KEY: TGraphErrors\tgrSF1D_1;1\tGraph\n",
      "  KEY: TGraphErrors\tgrSF1D_2;1\tGraph\n",
      "  KEY: TGraphErrors\tgrSF1D_3;1\tGraph\n",
      "  KEY: TGraphErrors\tgrSF1D_4;1\tGraph\n",
      "  KEY: TGraphErrors\tgrSF1D_5;1\tGraph\n"
     ]
    }
   ],
   "source": [
    "file_eff_EleID.ls()"
   ]
  },
  {
   "cell_type": "code",
   "execution_count": 3,
   "id": "willing-master",
   "metadata": {},
   "outputs": [],
   "source": [
    "h_eff_sf_EleID_2D = file_eff_EleID.Get( \"EGamma_SF2D\" )"
   ]
  },
  {
   "cell_type": "code",
   "execution_count": 4,
   "id": "romantic-david",
   "metadata": {},
   "outputs": [
    {
     "name": "stdout",
     "output_type": "stream",
     "text": [
      "-2.25 -2.5 -2.0\n",
      "2.25 2.0 2.5\n",
      "15.0 10.0 20.0\n",
      "350.0 200.0 500.0\n"
     ]
    },
    {
     "data": {
      "image/png": "[encoded data removed]",
      "text/plain": [
       "<IPython.core.display.Image object>"
      ]
     },
     "metadata": {},
     "output_type": "display_data"
    }
   ],
   "source": [
    "print ( h_eff_sf_EleID_2D.GetXaxis().GetBinCenter( 1 ),\n",
    "        h_eff_sf_EleID_2D.GetXaxis().GetBinLowEdge( 1 ),\n",
    "        h_eff_sf_EleID_2D.GetXaxis().GetBinUpEdge( 1 ) )\n",
    "print ( h_eff_sf_EleID_2D.GetXaxis().GetBinCenter( h_eff_sf_EleID_2D.GetNbinsX() ),\n",
    "        h_eff_sf_EleID_2D.GetXaxis().GetBinLowEdge( h_eff_sf_EleID_2D.GetNbinsX() ),\n",
    "        h_eff_sf_EleID_2D.GetXaxis().GetBinUpEdge( h_eff_sf_EleID_2D.GetNbinsX() ) )\n",
    "print ( h_eff_sf_EleID_2D.GetYaxis().GetBinCenter( 1 ),\n",
    "        h_eff_sf_EleID_2D.GetYaxis().GetBinLowEdge( 1 ),\n",
    "        h_eff_sf_EleID_2D.GetYaxis().GetBinUpEdge( 1 ) )\n",
    "print ( h_eff_sf_EleID_2D.GetYaxis().GetBinCenter( h_eff_sf_EleID_2D.GetNbinsY() ),\n",
    "        h_eff_sf_EleID_2D.GetYaxis().GetBinLowEdge( h_eff_sf_EleID_2D.GetNbinsY() ),\n",
    "        h_eff_sf_EleID_2D.GetYaxis().GetBinUpEdge( h_eff_sf_EleID_2D.GetNbinsY() ) )\n",
    "canvas1 = ROOT.TCanvas( \"canvas1\" )\n",
    "h_eff_sf_EleID_2D.Draw( \"COLZ\" )\n",
    "canvas1.Draw()"
   ]
  },
  {
   "cell_type": "code",
   "execution_count": 5,
   "id": "amazing-massage",
   "metadata": {},
   "outputs": [],
   "source": [
    "# class ElectronScaleFactor:\n",
    "#     def __init__( self, histos ):\n",
    "#         self.h2D_EleID = histos[ \"EleID\" ]\n",
    "#     def __call__( self, pt, eta ):\n",
    "#         sf_ = 1.\n",
    "#         unc_ = 0.\n",
    "#         if pt < 500.:\n",
    "#             bin2D_ = self.h2D_EleID.FindBin( eta, pt )\n",
    "#             sf_ = self.h2D_EleID.GetBinContent( bin2D_ )\n",
    "#             unc_ = self.h2D_EleID.GetBinError( bin2D_ )\n",
    "#         else:\n",
    "#             bin2D_ = self.h2D_EleID.FindBin( eta, self.h2D_EleID.GetYaxis().GetBinCenter( self.h2D_EleID.GetNbinsY() ) )\n",
    "#             sf_ = self.h2D_EleID.GetBinContent( bin2D_ )\n",
    "#             unc_ = self.h2D_EleID.GetBinError( bin2D_ )\n",
    "#         return ( sf_, unc_ )"
   ]
  },
  {
   "cell_type": "code",
   "execution_count": 6,
   "id": "empty-union",
   "metadata": {},
   "outputs": [],
   "source": [
    "class ElectronScaleFactor:\n",
    "    def __init__( self, histos ):\n",
    "        self.h2D_EleID = histos[ \"EleID\" ]\n",
    "    def __call__( self, pt, eta ):\n",
    "        sf_ = 1.\n",
    "        unc_ = 0.\n",
    "        bin2D_ = None\n",
    "        if pt < 500.:\n",
    "            bin2D_ = self.h2D_EleID.FindBin( eta, pt )\n",
    "        else:\n",
    "            bin2D_ = self.h2D_EleID.FindBin( eta, self.h2D_EleID.GetYaxis().GetBinCenter( self.h2D_EleID.GetNbinsY() ) )\n",
    "        sf_ = self.h2D_EleID.GetBinContent( bin2D_ )\n",
    "        unc_ = self.h2D_EleID.GetBinError( bin2D_ )\n",
    "        return ( sf_, unc_ )"
   ]
  },
  {
   "cell_type": "code",
   "execution_count": 7,
   "id": "thick-wildlife",
   "metadata": {},
   "outputs": [],
   "source": [
    "electron_scale_factor_ = ElectronScaleFactor( histos = { \"EleID\": h_eff_sf_EleID_2D } )"
   ]
  },
  {
   "cell_type": "code",
   "execution_count": 8,
   "id": "awful-monaco",
   "metadata": {},
   "outputs": [
    {
     "data": {
      "text/plain": [
       "(0.9851258397102356, 0.016119031206426177)"
      ]
     },
     "execution_count": 8,
     "metadata": {},
     "output_type": "execute_result"
    }
   ],
   "source": [
    "electron_scale_factor_( 100., 0.50 )"
   ]
  },
  {
   "cell_type": "code",
   "execution_count": null,
   "id": "personal-phoenix",
   "metadata": {},
   "outputs": [],
   "source": []
  }
 ],
 "metadata": {
  "kernelspec": {
   "display_name": "Python 3",
   "language": "python",
   "name": "python3"
  },
  "language_info": {
   "codemirror_mode": {
    "name": "ipython",
    "version": 3
   },
   "file_extension": ".py",
   "mimetype": "text/x-python",
   "name": "python",
   "nbconvert_exporter": "python",
   "pygments_lexer": "ipython3",
   "version": "3.8.6"
  }
 },
 "nbformat": 4,
 "nbformat_minor": 5
}
