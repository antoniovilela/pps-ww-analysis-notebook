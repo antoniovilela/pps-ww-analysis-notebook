{
 "cells": [
  {
   "cell_type": "code",
   "execution_count": null,
   "id": "strategic-fashion",
   "metadata": {},
   "outputs": [],
   "source": [
    "from proton_efficiency import *"
   ]
  },
  {
   "cell_type": "code",
   "execution_count": null,
   "id": "framed-stress",
   "metadata": {},
   "outputs": [],
   "source": [
    "strips_multitrack_efficiency, strips_sensor_efficiency, multiRP_efficiency, file_eff_strips, file_eff_multiRP = efficiencies_2017()"
   ]
  },
  {
   "cell_type": "code",
   "execution_count": null,
   "id": "interpreted-google",
   "metadata": {},
   "outputs": [],
   "source": [
    "strips_multitrack_efficiency"
   ]
  },
  {
   "cell_type": "code",
   "execution_count": null,
   "id": "foster-peeing",
   "metadata": {},
   "outputs": [],
   "source": [
    "strips_sensor_efficiency"
   ]
  },
  {
   "cell_type": "code",
   "execution_count": null,
   "id": "educational-tribune",
   "metadata": {},
   "outputs": [],
   "source": [
    "multiRP_efficiency"
   ]
  },
  {
   "cell_type": "code",
   "execution_count": null,
   "id": "alive-machine",
   "metadata": {},
   "outputs": [],
   "source": [
    "sz_efficiencies = strict_zero_efficiencies()"
   ]
  },
  {
   "cell_type": "code",
   "execution_count": 30,
   "id": "asian-ontario",
   "metadata": {},
   "outputs": [],
   "source": [
    "import ROOT\n",
    "file_pixel_ = ROOT.TFile.Open( \"efficiencies/Pixel/RPixTracking/pixelEfficiencies_multiRP.root\", \"READ\")\n",
    "# file_pixel_ = ROOT.TFile.Open( \"efficiencies/Pixel/RPixTracking/pixelEfficiencies_multiRP_reMiniAOD.root\", \"READ\")"
   ]
  },
  {
   "cell_type": "code",
   "execution_count": 31,
   "id": "extensive-startup",
   "metadata": {},
   "outputs": [
    {
     "name": "stdout",
     "output_type": "stream",
     "text": [
      "TFile**\t\tefficiencies/Pixel/RPixTracking/pixelEfficiencies_multiRP.root\t\n",
      " TFile*\t\tefficiencies/Pixel/RPixTracking/pixelEfficiencies_multiRP.root\t\n",
      "  TDirectoryFile*\t\tPixel\tPixel/2017/2017B\n",
      "   TDirectoryFile*\t\t2017\t2017/2017B\n",
      "    TDirectoryFile*\t\t2017B\t2017B\n",
      "     KEY: TH2D\th45_220_2017B_all_2D;1\th45_220_2017B_all_2D\n",
      "     KEY: TH2D\th56_220_2017B_all_2D;1\th56_220_2017B_all_2D\n",
      "     KEY: TH1D\th45_220_2017B_all_1D;1\th45_220_2017B_all_1D\n",
      "     KEY: TH1D\th56_220_2017B_all_1D;1\th56_220_2017B_all_1D\n",
      "    KEY: TDirectoryFile\t2017B;1\t2017B\n",
      "    KEY: TDirectoryFile\t2017C1;1\t2017C1\n",
      "    KEY: TDirectoryFile\t2017C2;1\t2017C2\n",
      "    KEY: TDirectoryFile\t2017D;1\t2017D\n",
      "    KEY: TDirectoryFile\t2017E;1\t2017E\n",
      "    KEY: TDirectoryFile\t2017F1;1\t2017F1\n",
      "    KEY: TDirectoryFile\t2017F2;1\t2017F2\n",
      "    KEY: TDirectoryFile\t2017F3;1\t2017F3\n",
      "   KEY: TDirectoryFile\t2017;1\t2017/2017B\n",
      "  KEY: TDirectoryFile\tPixel;1\tPixel/2017/2017B\n"
     ]
    }
   ],
   "source": [
    "file_pixel_.cd( \"Pixel/2017/2017B\" )\n",
    "file_pixel_.ls()"
   ]
  },
  {
   "cell_type": "code",
   "execution_count": 22,
   "id": "downtown-database",
   "metadata": {},
   "outputs": [],
   "source": [
    "file_strips_ = ROOT.TFile.Open( \"efficiencies/Strips/StripsTracking/PreliminaryEfficiencies_July132020_1D2DMultiTrack.root\", \"READ\" )"
   ]
  },
  {
   "cell_type": "code",
   "execution_count": 26,
   "id": "prescription-trade",
   "metadata": {},
   "outputs": [
    {
     "name": "stdout",
     "output_type": "stream",
     "text": [
      "TFile**\t\tefficiencies/Strips/StripsTracking/PreliminaryEfficiencies_July132020_1D2DMultiTrack.root\t\n",
      " TFile*\t\tefficiencies/Strips/StripsTracking/PreliminaryEfficiencies_July132020_1D2DMultiTrack.root\t\n",
      "  TDirectoryFile*\t\tStrips\tStrips/2017/2017all\n",
      "   TDirectoryFile*\t\t2017\t2017/2017all\n",
      "    TDirectoryFile*\t\t2017all\t2017all\n",
      "     KEY: TH1F\th45_2017_all_1D;1\t45, 2017BCDEF\n",
      "     KEY: TH1F\th56_2017_all_1D;1\t56, 2017BCDEF\n",
      "     KEY: TH1F\th45errors_2017_all_1D;1\t45, 2017BCDEF\n",
      "     KEY: TH1F\th56errors_2017_all_1D;1\t56, 2017BCDEF\n",
      "     KEY: TH2F\th45_2017_all_2D;1\t45, 2017BCDEF\n",
      "     KEY: TH2F\th56_2017_all_2D;1\t56, 2017BCDEF\n",
      "     KEY: TH1F\th45multitrackeff_2017BCDEF_avg_RP3;1\th45multitrackeff_2017BCDEF_avg_RP3\n",
      "     KEY: TH1F\th56multitrackeff_2017BCDEF_avg_RP103;1\th56multitrackeff_2017BCDEF_avg_RP103\n",
      "    TDirectoryFile*\t\t2017B\t2017B\n",
      "     KEY: TH1F\th45_2017B_all_1D;1\t45, 2017B\n",
      "     KEY: TH1F\th56_2017B_all_1D;1\t56, 2017B\n",
      "     KEY: TH1F\th45errors_2017B_all_1D;1\t45, 2017B\n",
      "     KEY: TH1F\th56errors_2017B_all_1D;1\t56, 2017B\n",
      "     KEY: TH1F\th45_2017B_120_1D;1\t45, 2017B, xing angle = 120 #murad\n",
      "     KEY: TH1F\th56_2017B_120_1D;1\t56, 2017B, xing angle = 120 #murad\n",
      "     KEY: TH1F\th45errors_2017B_120_1D;1\t45, 2017B, xing angle = 120 #murad\n",
      "     KEY: TH1F\th56errors_2017B_120_1D;1\t56, 2017B, xing angle = 120 #murad\n",
      "     KEY: TH1F\th45_2017B_130_1D;1\t45, 2017B, xing angle = 130 #murad\n",
      "     KEY: TH1F\th56_2017B_130_1D;1\t56, 2017B, xing angle = 130 #murad\n",
      "     KEY: TH1F\th45errors_2017B_130_1D;1\t45, 2017B, xing angle = 130 #murad\n",
      "     KEY: TH1F\th56errors_2017B_130_1D;1\t56, 2017B, xing angle = 130 #murad\n",
      "     KEY: TH1F\th45_2017B_140_1D;1\t45, 2017B, xing angle = 140 #murad\n",
      "     KEY: TH1F\th56_2017B_140_1D;1\t56, 2017B, xing angle = 140 #murad\n",
      "     KEY: TH1F\th45errors_2017B_140_1D;1\t45, 2017B, xing angle = 140 #murad\n",
      "     KEY: TH1F\th56errors_2017B_140_1D;1\t56, 2017B, xing angle = 140 #murad\n",
      "     KEY: TH1F\th45_2017B_150_1D;1\t45, 2017B, xing angle = 150 #murad\n",
      "     KEY: TH1F\th56_2017B_150_1D;1\t56, 2017B, xing angle = 150 #murad\n",
      "     KEY: TH1F\th45errors_2017B_150_1D;1\t45, 2017B, xing angle = 150 #murad\n",
      "     KEY: TH1F\th56errors_2017B_150_1D;1\t56, 2017B, xing angle = 150 #murad\n",
      "     KEY: TH2F\th45_2017B_all_2D;1\t45, 2017B\n",
      "     KEY: TH2F\th56_2017B_all_2D;1\t56, 2017B\n",
      "     KEY: TH1F\th45multitrackeff_2017B_avg_RP3;1\th45multitrackeff_2017B_avg_RP3\n",
      "     KEY: TH1F\th56multitrackeff_2017B_avg_RP103;1\th56multitrackeff_2017B_avg_RP103\n",
      "    KEY: TDirectoryFile\t2017all;1\t2017all\n",
      "    KEY: TDirectoryFile\t2017B;1\t2017B\n",
      "    KEY: TDirectoryFile\t2017C;1\t2017C\n",
      "    KEY: TDirectoryFile\t2017D;1\t2017D\n",
      "    KEY: TDirectoryFile\t2017E;1\t2017E\n",
      "    KEY: TDirectoryFile\t2017F;1\t2017F\n",
      "    KEY: TDirectoryFile\t2017C1;1\t2017C1\n",
      "    KEY: TDirectoryFile\t2017C2;1\t2017C2\n",
      "    KEY: TDirectoryFile\t2017F1;1\t2017F1\n",
      "    KEY: TDirectoryFile\t2017F2;1\t2017F2\n",
      "    KEY: TDirectoryFile\t2017F3;1\t2017F3\n",
      "   KEY: TDirectoryFile\t2017;1\t2017/2017all\n",
      "   KEY: TDirectoryFile\t2016;1\t2016/2016all\n",
      "  KEY: TDirectoryFile\tStrips;1\tStrips/2017/2017all\n"
     ]
    }
   ],
   "source": [
    "file_strips_.cd( \"Strips/2017/2017B\" )\n",
    "file_strips_.ls()"
   ]
  },
  {
   "cell_type": "code",
   "execution_count": 10,
   "id": "induced-purple",
   "metadata": {
    "scrolled": true
   },
   "outputs": [
    {
     "name": "stdout",
     "output_type": "stream",
     "text": [
      "total 78942\r\n",
      "drwx------. 2 103296 2766     4096 Nov 24 14:40 .\r\n",
      "drwx------. 2 103296 2766     4096 Nov  2  2020 ..\r\n",
      "drwx------. 2 103296 2766     4096 Oct 31  2018 EfficiencyCalculation\r\n",
      "drwx------. 2 103296 2766     4096 Apr 24  2020 EfficiencyCalculation2017\r\n",
      "drwx------. 2 103296 2766     4096 Apr 30  2020 EfficiencyCalculation2018\r\n",
      "drwx------. 2 103296 2766     4096 Jun 19  2019 GainCalibration_07_2018\r\n",
      "-rw-r--r--. 1 103296 2766  8728430 Nov 24 14:40 pixelEfficiencies_multiRP_reMiniAOD.root\r\n",
      "-rw-r--r--. 1 103296 2766  3308299 May 28  2020 pixelEfficiencies_multiRP.root\r\n",
      "-rwxr-xr-x. 1 103296 2766 25606356 Nov 20 11:01 pixelEfficiencies_planes_reMiniAOD.root\r\n",
      "-rwxr-xr-x. 1 103296 2766 17164190 Nov 24 12:21 pixelEfficiencies_radiation_reMiniAOD.root\r\n",
      "-rw-r--r--. 1 103296 2766 10467601 Nov 26  2019 pixelEfficiencies_radiation.root\r\n",
      "-rwxr-xr-x. 1 103296 2766 10722211 Nov 20 11:01 pixelEfficiencies_singleRP_reMiniAOD.root\r\n",
      "-rw-r--r--. 1 103296 2766  4808920 Sep 26  2020 pixelEfficiencies_singleRP.root\r\n",
      "drwx------. 2 103296 2766     4096 Jul 30  2020 WeeklyEfficiency\r\n"
     ]
    }
   ],
   "source": [
    "!ls -la /eos/project/c/ctpps/subsystems/Pixel/RPixTracking/"
   ]
  },
  {
   "cell_type": "code",
   "execution_count": 15,
   "id": "acute-negative",
   "metadata": {
    "scrolled": false
   },
   "outputs": [
    {
     "name": "stdout",
     "output_type": "stream",
     "text": [
      "total 57463\r\n",
      "drwxr-xr-x. 1 antoniov 1399     4096 May 12 15:58 .\r\n",
      "drwxr-xr-x. 2 antoniov 1399     4096 Jan 20 12:11 ..\r\n",
      "-rw-r--r--. 1 antoniov 1399  8728430 May 12 15:57 pixelEfficiencies_multiRP_reMiniAOD.root\r\n",
      "-rw-r--r--. 1 antoniov 1399  3308299 Jan 20 12:11 pixelEfficiencies_multiRP.root\r\n",
      "-rwxr-xr-x. 1 antoniov 1399 25606356 May 12 15:58 pixelEfficiencies_planes_reMiniAOD.root\r\n",
      "-rw-r--r--. 1 antoniov 1399 10467601 Jan 20 12:11 pixelEfficiencies_radiation.root\r\n",
      "-rwxr-xr-x. 1 antoniov 1399 10722211 May 12 15:57 pixelEfficiencies_singleRP_reMiniAOD.root\r\n"
     ]
    }
   ],
   "source": [
    "!ls -la efficiencies/Pixel/RPixTracking"
   ]
  },
  {
   "cell_type": "code",
   "execution_count": 18,
   "id": "modern-louis",
   "metadata": {},
   "outputs": [
    {
     "name": "stdout",
     "output_type": "stream",
     "text": [
      "total 1328\r\n",
      "drwx------. 2 103296 2766   4096 Jul 14  2020 .\r\n",
      "drwx------. 2 103296 2766   4096 Nov 10  2019 ..\r\n",
      "-rw-r--r--. 1 103296 2766 788664 Jul 14  2020 PreliminaryEfficiencies_July132020_1D2DMultiTrack.root\r\n",
      "-rw-r--r--. 1 103296 2766 562334 Nov 10  2019 PreliminaryEfficiencies_October92019_1D2DMultiTrack.root\r\n"
     ]
    }
   ],
   "source": [
    "!ls -la /eos/project/c/ctpps/subsystems/Strips/StripsTracking"
   ]
  },
  {
   "cell_type": "code",
   "execution_count": 19,
   "id": "classified-toner",
   "metadata": {},
   "outputs": [
    {
     "name": "stdout",
     "output_type": "stream",
     "text": [
      "total 1328\r\n",
      "drwx------. 2 antoniov 1399   4096 Jan 20 12:11 \u001b[0m\u001b[01;34m.\u001b[0m/\r\n",
      "drwx------. 2 antoniov 1399   4096 Jan 20 12:11 \u001b[01;34m..\u001b[0m/\r\n",
      "-rw-r--r--. 1 antoniov 1399 788664 Jan 20 12:11 PreliminaryEfficiencies_July132020_1D2DMultiTrack.root\r\n",
      "-rw-r--r--. 1 antoniov 1399 562334 Jan 20 12:11 PreliminaryEfficiencies_October92019_1D2DMultiTrack.root\r\n"
     ]
    }
   ],
   "source": [
    "ls -la efficiencies/Strips/StripsTracking"
   ]
  },
  {
   "cell_type": "code",
   "execution_count": 11,
   "id": "demonstrated-nickel",
   "metadata": {},
   "outputs": [],
   "source": [
    "!cp /eos/project/c/ctpps/subsystems/Pixel/RPixTracking/pixelEfficiencies_multiRP_reMiniAOD.root efficiencies/Pixel/RPixTracking/"
   ]
  },
  {
   "cell_type": "code",
   "execution_count": 12,
   "id": "visible-bracelet",
   "metadata": {},
   "outputs": [],
   "source": [
    "!cp /eos/project/c/ctpps/subsystems/Pixel/RPixTracking/pixelEfficiencies_singleRP_reMiniAOD.root efficiencies/Pixel/RPixTracking/"
   ]
  },
  {
   "cell_type": "code",
   "execution_count": 14,
   "id": "pleased-niagara",
   "metadata": {},
   "outputs": [],
   "source": [
    "!cp /eos/project/c/ctpps/subsystems/Pixel/RPixTracking/pixelEfficiencies_planes_reMiniAOD.root efficiencies/Pixel/RPixTracking/"
   ]
  },
  {
   "cell_type": "code",
   "execution_count": null,
   "id": "enclosed-point",
   "metadata": {},
   "outputs": [],
   "source": []
  }
 ],
 "metadata": {
  "kernelspec": {
   "display_name": "Python 3",
   "language": "python",
   "name": "python3"
  },
  "language_info": {
   "codemirror_mode": {
    "name": "ipython",
    "version": 3
   },
   "file_extension": ".py",
   "mimetype": "text/x-python",
   "name": "python",
   "nbconvert_exporter": "python",
   "pygments_lexer": "ipython3",
   "version": "3.8.6"
  }
 },
 "nbformat": 4,
 "nbformat_minor": 5
}
