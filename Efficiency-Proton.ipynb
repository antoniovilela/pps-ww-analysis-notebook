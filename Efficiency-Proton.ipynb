{
 "cells": [
  {
   "cell_type": "code",
   "execution_count": null,
   "id": "green-imagination",
   "metadata": {
    "scrolled": true
   },
   "outputs": [],
   "source": [
    "!ls -la /eos/project/c/ctpps/subsystems/Pixel/RPixTracking/"
   ]
  },
  {
   "cell_type": "code",
   "execution_count": null,
   "id": "working-billion",
   "metadata": {
    "scrolled": false
   },
   "outputs": [],
   "source": [
    "!ls -la efficiencies/Pixel/RPixTracking"
   ]
  },
  {
   "cell_type": "code",
   "execution_count": null,
   "id": "unlikely-controversy",
   "metadata": {},
   "outputs": [],
   "source": [
    "!ls -la /eos/project/c/ctpps/subsystems/Strips/StripsTracking"
   ]
  },
  {
   "cell_type": "code",
   "execution_count": null,
   "id": "danish-stadium",
   "metadata": {},
   "outputs": [],
   "source": [
    "ls -la efficiencies/Strips/StripsTracking"
   ]
  },
  {
   "cell_type": "code",
   "execution_count": null,
   "id": "likely-major",
   "metadata": {},
   "outputs": [],
   "source": [
    "import ROOT\n",
    "# file_pixel_mutiRP_ = ROOT.TFile.Open( \"efficiencies/Pixel/RPixTracking/pixelEfficiencies_multiRP.root\", \"READ\")\n",
    "file_pixel_multiRP_ = ROOT.TFile.Open( \"efficiencies/Pixel/RPixTracking/pixelEfficiencies_multiRP_reMiniAOD.root\", \"READ\")"
   ]
  },
  {
   "cell_type": "code",
   "execution_count": null,
   "id": "quarterly-trace",
   "metadata": {},
   "outputs": [],
   "source": [
    "file_pixel_multiRP_.cd( \"Pixel/2017/2017B\" )\n",
    "file_pixel_multiRP_.ls()"
   ]
  },
  {
   "cell_type": "code",
   "execution_count": null,
   "id": "upper-fields",
   "metadata": {},
   "outputs": [],
   "source": [
    "# file_pixel_singleRP_ = ROOT.TFile.Open( \"efficiencies/Pixel/RPixTracking/pixelEfficiencies_singleRP_reMiniAOD.root\", \"READ\")"
   ]
  },
  {
   "cell_type": "code",
   "execution_count": null,
   "id": "musical-tennis",
   "metadata": {
    "scrolled": true
   },
   "outputs": [],
   "source": [
    "# file_pixel_singleRP_.cd( \"Pixel/2018/2018A\" )\n",
    "# file_pixel_singleRP_.ls()"
   ]
  },
  {
   "cell_type": "code",
   "execution_count": null,
   "id": "medical-registration",
   "metadata": {},
   "outputs": [],
   "source": [
    "file_pixel_radiation_ = ROOT.TFile.Open( \"efficiencies/Pixel/RPixTracking/pixelEfficiencies_radiation_reMiniAOD.root\", \"READ\")"
   ]
  },
  {
   "cell_type": "code",
   "execution_count": null,
   "id": "great-trigger",
   "metadata": {},
   "outputs": [],
   "source": [
    "file_pixel_radiation_.cd( \"Pixel/2018/2018A\" )\n",
    "file_pixel_radiation_.ls()"
   ]
  },
  {
   "cell_type": "code",
   "execution_count": null,
   "id": "illegal-pacific",
   "metadata": {},
   "outputs": [],
   "source": [
    "file_strips_ = ROOT.TFile.Open( \"efficiencies/Strips/StripsTracking/PreliminaryEfficiencies_July132020_1D2DMultiTrack.root\", \"READ\" )"
   ]
  },
  {
   "cell_type": "code",
   "execution_count": null,
   "id": "first-childhood",
   "metadata": {},
   "outputs": [],
   "source": [
    "file_strips_.cd( \"Strips/2017/2017B\" )\n",
    "file_strips_.ls()"
   ]
  },
  {
   "cell_type": "code",
   "execution_count": null,
   "id": "liable-brother",
   "metadata": {},
   "outputs": [],
   "source": [
    "year = \"2018\"\n",
    "period = \"2018A\"\n",
    "sector = \"45\"\n",
    "station = \"220\"\n",
    "h_eff_pixel_multiRP_ = file_pixel_multiRP_.Get(\n",
    "    \"Pixel/\" + year + \"/\" + period + \"/h\" + sector + \"_\" + station + \"_\" + period + \"_all_2D\"\n",
    "    )\n",
    "canvas = ROOT.TCanvas( \"canvas\" )\n",
    "h_eff_pixel_multiRP_.Draw( \"COLZ\" )\n",
    "canvas.Draw()"
   ]
  },
  {
   "cell_type": "code",
   "execution_count": null,
   "id": "molecular-geneva",
   "metadata": {},
   "outputs": [],
   "source": [
    "year = \"2018\"\n",
    "period = \"2018A\"\n",
    "sector = \"45\"\n",
    "station = \"210\"\n",
    "h_eff_pixel_radiation_ = file_pixel_radiation_.Get(\n",
    "    \"Pixel/\" + year + \"/\" + period + \"/h\" + sector + \"_\" + station + \"_\" + period + \"_all_2D\"\n",
    "    )\n",
    "canvas = ROOT.TCanvas( \"canvas\" )\n",
    "h_eff_pixel_radiation_.Draw( \"COLZ\" )\n",
    "canvas.Draw()"
   ]
  },
  {
   "cell_type": "code",
   "execution_count": null,
   "id": "joint-renewal",
   "metadata": {},
   "outputs": [],
   "source": [
    "from proton_efficiency import *"
   ]
  },
  {
   "cell_type": "code",
   "execution_count": null,
   "id": "disturbed-damage",
   "metadata": {},
   "outputs": [],
   "source": [
    "strips_multitrack_efficiency_2017, strips_sensor_efficiency_2017, multiRP_efficiency_2017, file_eff_strips_2017, file_eff_pixel_multiRP_2017 = efficiencies_2017()"
   ]
  },
  {
   "cell_type": "code",
   "execution_count": null,
   "id": "premium-update",
   "metadata": {},
   "outputs": [],
   "source": [
    "strips_multitrack_efficiency_2017"
   ]
  },
  {
   "cell_type": "code",
   "execution_count": null,
   "id": "streaming-mills",
   "metadata": {},
   "outputs": [],
   "source": [
    "strips_sensor_efficiency_2017"
   ]
  },
  {
   "cell_type": "code",
   "execution_count": null,
   "id": "practical-livestock",
   "metadata": {},
   "outputs": [],
   "source": [
    "multiRP_efficiency_2017"
   ]
  },
  {
   "cell_type": "code",
   "execution_count": null,
   "id": "continuous-montreal",
   "metadata": {},
   "outputs": [],
   "source": [
    "sz_efficiencies = strict_zero_efficiencies()"
   ]
  },
  {
   "cell_type": "code",
   "execution_count": null,
   "id": "massive-keyboard",
   "metadata": {},
   "outputs": [],
   "source": [
    "sensor_near_efficiency_2018, multiRP_efficiency_2018, file_eff_pixel_radiation_2018, file_eff_pixel_multiRP_2018 = efficiencies_2018()"
   ]
  },
  {
   "cell_type": "code",
   "execution_count": null,
   "id": "periodic-naples",
   "metadata": {},
   "outputs": [],
   "source": []
  }
 ],
 "metadata": {
  "kernelspec": {
   "display_name": "Python 3",
   "language": "python",
   "name": "python3"
  },
  "language_info": {
   "codemirror_mode": {
    "name": "ipython",
    "version": 3
   },
   "file_extension": ".py",
   "mimetype": "text/x-python",
   "name": "python",
   "nbconvert_exporter": "python",
   "pygments_lexer": "ipython3",
   "version": "3.8.6"
  }
 },
 "nbformat": 4,
 "nbformat_minor": 5
}
