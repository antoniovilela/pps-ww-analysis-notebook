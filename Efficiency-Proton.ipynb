{
 "cells": [
  {
   "cell_type": "code",
   "execution_count": 1,
   "id": "needed-january",
   "metadata": {},
   "outputs": [
    {
     "name": "stdout",
     "output_type": "stream",
     "text": [
      "Welcome to JupyROOT 6.22/06\n"
     ]
    }
   ],
   "source": [
    "from proton_efficiency import *"
   ]
  },
  {
   "cell_type": "code",
   "execution_count": 2,
   "id": "available-connecticut",
   "metadata": {},
   "outputs": [
    {
     "name": "stdout",
     "output_type": "stream",
     "text": [
      "{'2017B': {'45': <cppyy.gbl.TH1F object at 0x7875c90>, '56': <cppyy.gbl.TH1F object at 0x7a42710>}, '2017C1': {'45': <cppyy.gbl.TH1F object at 0x7a50420>, '56': <cppyy.gbl.TH1F object at 0x7a47ca0>}, '2017C2': {'45': <cppyy.gbl.TH1F object at 0x7ac7ef0>, '56': <cppyy.gbl.TH1F object at 0x7a43880>}, '2017D': {'45': <cppyy.gbl.TH1F object at 0x7aba690>, '56': <cppyy.gbl.TH1F object at 0x7ae67f0>}, '2017E': {'45': <cppyy.gbl.TH1F object at 0x7ad8280>, '56': <cppyy.gbl.TH1F object at 0x7af1d60>}, '2017F1': {'45': <cppyy.gbl.TH1F object at 0x7d76630>, '56': <cppyy.gbl.TH1F object at 0x7d72370>}, '2017F2': {'45': <cppyy.gbl.TH1F object at 0x7d62450>, '56': <cppyy.gbl.TH1F object at 0x7d66a50>}, '2017F3': {'45': <cppyy.gbl.TH1F object at 0x7d97c40>, '56': <cppyy.gbl.TH1F object at 0x7d9fe10>}}\n",
      "{'2017B': {'45': <cppyy.gbl.TH2F object at 0x79a9b10>, '56': <cppyy.gbl.TH2F object at 0x7a422e0>}, '2017C1': {'45': <cppyy.gbl.TH2F object at 0x7a46d90>, '56': <cppyy.gbl.TH2F object at 0x7a48100>}, '2017C2': {'45': <cppyy.gbl.TH2F object at 0x7ac8350>, '56': <cppyy.gbl.TH2F object at 0x7ad1d10>}, '2017D': {'45': <cppyy.gbl.TH2F object at 0x7abaaf0>, '56': <cppyy.gbl.TH2F object at 0x7ae6c50>}, '2017E': {'45': <cppyy.gbl.TH2F object at 0x7ae1680>, '56': <cppyy.gbl.TH2F object at 0x7af2290>}, '2017F1': {'45': <cppyy.gbl.TH2F object at 0x7d76a90>, '56': <cppyy.gbl.TH2F object at 0x7d727d0>}, '2017F2': {'45': <cppyy.gbl.TH2F object at 0x7addff0>, '56': <cppyy.gbl.TH2F object at 0x7d91960>}, '2017F3': {'45': <cppyy.gbl.TH2F object at 0x7d980a0>, '56': <cppyy.gbl.TH2F object at 0x7da0270>}}\n",
      "{'2017B': {'45': <cppyy.gbl.TH2D object at 0x7a32e60>, '56': <cppyy.gbl.TH2D object at 0x7a42bb0>}, '2017C1': {'45': <cppyy.gbl.TH2D object at 0x7a47610>, '56': <cppyy.gbl.TH2D object at 0x7a48a80>}, '2017C2': {'45': <cppyy.gbl.TH2D object at 0x7a43030>, '56': <cppyy.gbl.TH2D object at 0x7ad2690>}, '2017D': {'45': <cppyy.gbl.TH2D object at 0x7ae63e0>, '56': <cppyy.gbl.TH2D object at 0x7aebaa0>}, '2017E': {'45': <cppyy.gbl.TH2D object at 0x7af1230>, '56': <cppyy.gbl.TH2D object at 0x7d6b560>}, '2017F1': {'45': <cppyy.gbl.TH2D object at 0x7d71d40>, '56': <cppyy.gbl.TH2D object at 0x7addb80>}, '2017F2': {'45': <cppyy.gbl.TH2D object at 0x7d65f80>, '56': <cppyy.gbl.TH2D object at 0x7d922a0>}, '2017F3': {'45': <cppyy.gbl.TH2D object at 0x7d9f2e0>, '56': <cppyy.gbl.TH2D object at 0x7da0c50>}}\n"
     ]
    }
   ],
   "source": [
    "strips_multitrack_efficiency, strips_sensor_efficiency, multiRP_efficiency, file_eff_strips, file_eff_multiRP = efficiencies_2017()"
   ]
  },
  {
   "cell_type": "code",
   "execution_count": 3,
   "id": "transsexual-blank",
   "metadata": {},
   "outputs": [
    {
     "data": {
      "text/plain": [
       "{'2017B': {'45': <cppyy.gbl.TH1F object at 0x7875c90>,\n",
       "  '56': <cppyy.gbl.TH1F object at 0x7a42710>},\n",
       " '2017C1': {'45': <cppyy.gbl.TH1F object at 0x7a50420>,\n",
       "  '56': <cppyy.gbl.TH1F object at 0x7a47ca0>},\n",
       " '2017C2': {'45': <cppyy.gbl.TH1F object at 0x7ac7ef0>,\n",
       "  '56': <cppyy.gbl.TH1F object at 0x7a43880>},\n",
       " '2017D': {'45': <cppyy.gbl.TH1F object at 0x7aba690>,\n",
       "  '56': <cppyy.gbl.TH1F object at 0x7ae67f0>},\n",
       " '2017E': {'45': <cppyy.gbl.TH1F object at 0x7ad8280>,\n",
       "  '56': <cppyy.gbl.TH1F object at 0x7af1d60>},\n",
       " '2017F1': {'45': <cppyy.gbl.TH1F object at 0x7d76630>,\n",
       "  '56': <cppyy.gbl.TH1F object at 0x7d72370>},\n",
       " '2017F2': {'45': <cppyy.gbl.TH1F object at 0x7d62450>,\n",
       "  '56': <cppyy.gbl.TH1F object at 0x7d66a50>},\n",
       " '2017F3': {'45': <cppyy.gbl.TH1F object at 0x7d97c40>,\n",
       "  '56': <cppyy.gbl.TH1F object at 0x7d9fe10>}}"
      ]
     },
     "execution_count": 3,
     "metadata": {},
     "output_type": "execute_result"
    }
   ],
   "source": [
    "strips_multitrack_efficiency"
   ]
  },
  {
   "cell_type": "code",
   "execution_count": 4,
   "id": "dress-session",
   "metadata": {},
   "outputs": [
    {
     "data": {
      "text/plain": [
       "{'2017B': {'45': <cppyy.gbl.TH2F object at 0x79a9b10>,\n",
       "  '56': <cppyy.gbl.TH2F object at 0x7a422e0>},\n",
       " '2017C1': {'45': <cppyy.gbl.TH2F object at 0x7a46d90>,\n",
       "  '56': <cppyy.gbl.TH2F object at 0x7a48100>},\n",
       " '2017C2': {'45': <cppyy.gbl.TH2F object at 0x7ac8350>,\n",
       "  '56': <cppyy.gbl.TH2F object at 0x7ad1d10>},\n",
       " '2017D': {'45': <cppyy.gbl.TH2F object at 0x7abaaf0>,\n",
       "  '56': <cppyy.gbl.TH2F object at 0x7ae6c50>},\n",
       " '2017E': {'45': <cppyy.gbl.TH2F object at 0x7ae1680>,\n",
       "  '56': <cppyy.gbl.TH2F object at 0x7af2290>},\n",
       " '2017F1': {'45': <cppyy.gbl.TH2F object at 0x7d76a90>,\n",
       "  '56': <cppyy.gbl.TH2F object at 0x7d727d0>},\n",
       " '2017F2': {'45': <cppyy.gbl.TH2F object at 0x7addff0>,\n",
       "  '56': <cppyy.gbl.TH2F object at 0x7d91960>},\n",
       " '2017F3': {'45': <cppyy.gbl.TH2F object at 0x7d980a0>,\n",
       "  '56': <cppyy.gbl.TH2F object at 0x7da0270>}}"
      ]
     },
     "execution_count": 4,
     "metadata": {},
     "output_type": "execute_result"
    }
   ],
   "source": [
    "strips_sensor_efficiency"
   ]
  },
  {
   "cell_type": "code",
   "execution_count": 5,
   "id": "productive-balance",
   "metadata": {},
   "outputs": [
    {
     "data": {
      "text/plain": [
       "{'2017B': {'45': <cppyy.gbl.TH2D object at 0x7a32e60>,\n",
       "  '56': <cppyy.gbl.TH2D object at 0x7a42bb0>},\n",
       " '2017C1': {'45': <cppyy.gbl.TH2D object at 0x7a47610>,\n",
       "  '56': <cppyy.gbl.TH2D object at 0x7a48a80>},\n",
       " '2017C2': {'45': <cppyy.gbl.TH2D object at 0x7a43030>,\n",
       "  '56': <cppyy.gbl.TH2D object at 0x7ad2690>},\n",
       " '2017D': {'45': <cppyy.gbl.TH2D object at 0x7ae63e0>,\n",
       "  '56': <cppyy.gbl.TH2D object at 0x7aebaa0>},\n",
       " '2017E': {'45': <cppyy.gbl.TH2D object at 0x7af1230>,\n",
       "  '56': <cppyy.gbl.TH2D object at 0x7d6b560>},\n",
       " '2017F1': {'45': <cppyy.gbl.TH2D object at 0x7d71d40>,\n",
       "  '56': <cppyy.gbl.TH2D object at 0x7addb80>},\n",
       " '2017F2': {'45': <cppyy.gbl.TH2D object at 0x7d65f80>,\n",
       "  '56': <cppyy.gbl.TH2D object at 0x7d922a0>},\n",
       " '2017F3': {'45': <cppyy.gbl.TH2D object at 0x7d9f2e0>,\n",
       "  '56': <cppyy.gbl.TH2D object at 0x7da0c50>}}"
      ]
     },
     "execution_count": 5,
     "metadata": {},
     "output_type": "execute_result"
    }
   ],
   "source": [
    "multiRP_efficiency"
   ]
  },
  {
   "cell_type": "code",
   "execution_count": 6,
   "id": "integrated-reconstruction",
   "metadata": {},
   "outputs": [
    {
     "name": "stdout",
     "output_type": "stream",
     "text": [
      "{'2017B': {'45': {120: 0.8605, 130: 0.7749, 140: 0.7137, 150: 0.6359}, '56': {120: 0.8412, 130: 0.7409, 140: 0.6752, 150: 0.5948}}, '2017C1': {'45': {120: 0.8687, 130: 0.7888, 140: 0.7181, 150: 0.651}, '56': {120: 0.837, 130: 0.74, 140: 0.6607, 150: 0.5896}}, '2017C2': {'45': {120: 0.8687, 130: 0.7888, 140: 0.7181, 150: 0.651}, '56': {120: 0.837, 130: 0.74, 140: 0.6607, 150: 0.5896}}, '2017D': {'45': {120: 0.8665, 130: 0.792, 140: 0.7353, 150: 0.6713}, '56': {120: 0.8273, 130: 0.7376, 140: 0.6729, 150: 0.601}}, '2017E': {'45': {120: 0.6945, 130: 0.468, 140: 0.3556, 150: 0.3493}, '56': {120: 0.6307, 130: 0.3976, 140: 0.2982, 150: 0.2904}}, '2017F1': {'45': {120: 0.6803, 130: 0.4667, 140: 0.3878, 150: 0.3593}, '56': {120: 0.6053, 130: 0.3813, 140: 0.31, 150: 0.2862}}, '2017F2': {'45': {120: 0.6803, 130: 0.4667, 140: 0.3878, 150: 0.3593}, '56': {120: 0.6053, 130: 0.3813, 140: 0.31, 150: 0.2862}}, '2017F3': {'45': {120: 0.6803, 130: 0.4667, 140: 0.3878, 150: 0.3593}, '56': {120: 0.6053, 130: 0.3813, 140: 0.31, 150: 0.2862}}, '2017C': {'45': {120: 0.8687, 130: 0.7888, 140: 0.7181, 150: 0.651}, '56': {120: 0.837, 130: 0.74, 140: 0.6607, 150: 0.5896}}, '2017E1': {'45': {120: 0.0, 130: 0.0, 140: 0.0, 150: 1.0}, '56': {120: 0.6572, 130: 0.4822, 140: 0.3791, 150: 0.3467}}, '2017E2': {'45': {120: 0.6945, 130: 0.468, 140: 0.3556, 150: 0.3493}, '56': {120: 0.6307, 130: 0.3976, 140: 0.2982, 150: 0.2904}}, '2017F': {'45': {120: 0.6803, 130: 0.4667, 140: 0.3878, 150: 0.3593}, '56': {120: 0.6053, 130: 0.3813, 140: 0.31, 150: 0.2862}}}\n"
     ]
    }
   ],
   "source": [
    "sz_efficiencies = strict_zero_efficiencies()"
   ]
  },
  {
   "cell_type": "code",
   "execution_count": null,
   "id": "reserved-learning",
   "metadata": {},
   "outputs": [],
   "source": []
  }
 ],
 "metadata": {
  "kernelspec": {
   "display_name": "Python 3",
   "language": "python",
   "name": "python3"
  },
  "language_info": {
   "codemirror_mode": {
    "name": "ipython",
    "version": 3
   },
   "file_extension": ".py",
   "mimetype": "text/x-python",
   "name": "python",
   "nbconvert_exporter": "python",
   "pygments_lexer": "ipython3",
   "version": "3.8.6"
  }
 },
 "nbformat": 4,
 "nbformat_minor": 5
}
