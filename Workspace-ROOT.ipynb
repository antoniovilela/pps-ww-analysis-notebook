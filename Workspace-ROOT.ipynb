{
 "cells": [
  {
   "cell_type": "code",
   "execution_count": null,
   "metadata": {},
   "outputs": [],
   "source": [
    "import ROOT"
   ]
  },
  {
   "cell_type": "code",
   "execution_count": null,
   "metadata": {
    "scrolled": false
   },
   "outputs": [],
   "source": [
    "# fileName_ = \"/eos/user/a/antoniov/Workspace/analysis/data/PPS/SingleMuon-Run2017B-Dilepton/190621_214052/0000/SlimmedNtuple_merged_0.root\"\n",
    "fileName_ = \"/eos/user/a/antoniov/Workspace/analysis/data/PPS/GGToWW_bSM-A0W1e-6_13TeV-fpmc-herwig6-signal-proton-propagation-dilepton/200420_160422/0000/SlimmedNtuple_merged_0.root\"\n",
    "# fileName_ = \"/eos/home-a/antoniov/Workspace/analysis/data/PPS/SingleMuon-Run2017B-withDilepton/0000/SlimmedNtuple_merged_0.root\"\n",
    "\n",
    "file_ = ROOT.TFile( fileName_ , \"READ\" )\n",
    "data_ = file_.Get( \"demo/SlimmedNtuple\" )\n",
    "data_.Print()"
   ]
  },
  {
   "cell_type": "code",
   "execution_count": null,
   "metadata": {},
   "outputs": [],
   "source": [
    "#chain_ = ROOT.TChain( \"demo/SlimmedNtuple\" )\n",
    "#chain_.Add( \"/eos/user/a/antoniov/Workspace/analysis/data/PPS/SingleMuon-Run2017B-Dilepton/190621_214052/0000/SlimmedNtuple_*.root\" )"
   ]
  },
  {
   "cell_type": "code",
   "execution_count": null,
   "metadata": {},
   "outputs": [],
   "source": [
    "#chain_.Print()"
   ]
  },
  {
   "cell_type": "code",
   "execution_count": null,
   "metadata": {},
   "outputs": [],
   "source": [
    "\"\"\"\n",
    "NJETMAX = 30\n",
    "jet_pt_ = ROOT.std.vector('float')(NJETMAX)\n",
    "chain_.SetBranchAddress( 'jet_pt', jet_pt_ )\n",
    "NMUMAX = 30\n",
    "muon_pt_ = ROOT.std.vector('float')(NMUMAX)\n",
    "chain_.SetBranchAddress( 'muon_pt', muon_pt_ )\n",
    "print( jet_pt_.size() )\n",
    "print( muon_pt_.size() )\n",
    "\"\"\""
   ]
  },
  {
   "cell_type": "code",
   "execution_count": null,
   "metadata": {},
   "outputs": [],
   "source": [
    "\"\"\"\n",
    "#for ientry in range( data_.GetEntriesFast() ):\n",
    "for ientry in range( 50 ):\n",
    "    chain_.GetEntry( ientry )\n",
    "    print( muon_pt_ )\n",
    "\"\"\""
   ]
  },
  {
   "cell_type": "code",
   "execution_count": null,
   "metadata": {},
   "outputs": [],
   "source": [
    "data_.GetEntry(10)\n",
    "print ( data_.hlt )\n",
    "print ( data_.jet_pt.size() )\n",
    "print ( data_.jet_pt )\n",
    "print ( data_.jet_eta )\n",
    "print ( data_.jet_phi )\n",
    "print ( data_.jet_vertexz ) \n",
    "print ( data_.jet_jer_res )\n",
    "print ( data_.jet_jer_sf )\n",
    "print ( data_.jet_jer_sfup )\n",
    "print ( data_.jet_jer_sfdown )\n",
    "print ( data_.muon_pt.size() )\n",
    "print ( data_.muon_pt )\n",
    "print ( data_.muon_eta )\n",
    "print ( data_.muon_phi )\n",
    "print ( data_.muon_charge )\n",
    "print ( data_.muon_dxy )\n",
    "print ( data_.muon_dz )\n",
    "print ( data_.num_bjets_ak8 )\n",
    "print ( data_.num_bjets_ak4 )\n",
    "print ( data_.num_jets_ak4 )\n",
    "print ( data_.recoMWhad )\n",
    "print ( data_.recoMWlep )\n",
    "print ( data_.recoMWW )\n",
    "print ( data_.recoRapidityWW )\n",
    "print ( data_.dphiWW )\n",
    "print ( data_.WLeptonicPt )\n",
    "print ( data_.WLeptonicPhi )\n",
    "print ( data_.pfcand_nextracks )\n",
    "print ( data_.pfcand_nextracks_noDRl )\n",
    "print ( data_.proton_xi )\n",
    "print ( data_.proton_ismultirp_ )\n",
    "print ( data_.proton_rpid )\n",
    "print ( data_.proton_arm )\n",
    "print ( data_.proton_thx )\n",
    "print ( data_.proton_thy )\n",
    "print ( data_.proton_trackx1 )\n",
    "print ( data_.proton_tracky1 )\n",
    "print ( data_.proton_trackx2 )\n",
    "print ( data_.proton_tracky2 )\n",
    "print ( data_.proton_trackpixshift1 )\n",
    "print ( data_.proton_trackpixshift2 )\n",
    "print ( data_.proton_rpid1 )\n",
    "print ( data_.proton_rpid2 )\n",
    "print ( data_.pps_track_x )\n",
    "print ( data_.pps_track_y )\n",
    "print ( data_.pps_track_rpid )"
   ]
  },
  {
   "cell_type": "code",
   "execution_count": null,
   "metadata": {
    "scrolled": false
   },
   "outputs": [],
   "source": [
    "maxEvents_ = 10\n",
    "for idx, entry in enumerate( data_ ):\n",
    "    if idx >= maxEvents_: break\n",
    "    print ( \"\\n{}, {}, {}\".format( entry.run, entry.event, entry.lumiblock ) )\n",
    "    print ( entry.hlt.size() )\n",
    "    print ( entry.hlt )\n",
    "    print ( entry.jet_pt.size() )\n",
    "    print ( \"{}, {}, {}\".format( entry.jet_pt.at(0), entry.jet_eta.at(0), entry.jet_phi.at(0) ) )\n",
    "    print ( \"{}, {}\".format( entry.jet_tau1.at(0), entry.jet_tau2.at(0) ) )\n",
    "    print ( \"{}, {}\".format( entry.jet_mass.at(0), entry.jet_corrmass.at(0) ) )\n",
    "    print ( entry.muon_pt.size() )\n",
    "    print ( entry.muon_pt )\n",
    "    print ( entry.proton_xi.size() )\n",
    "    print ( entry.proton_xi )\n",
    "    print ( entry.proton_ismultirp_ )\n",
    "    print ( entry.proton_rpid )\n",
    "    print ( entry.proton_arm )\n",
    "    print ( entry.pps_track_x )\n",
    "    print ( entry.pps_track_y )\n",
    "    print ( entry.pps_track_rpid )\n",
    "    "
   ]
  },
  {
   "cell_type": "code",
   "execution_count": null,
   "metadata": {},
   "outputs": [],
   "source": []
  }
 ],
 "metadata": {
  "kernelspec": {
   "display_name": "Python 3",
   "language": "python",
   "name": "python3"
  },
  "language_info": {
   "codemirror_mode": {
    "name": "ipython",
    "version": 3
   },
   "file_extension": ".py",
   "mimetype": "text/x-python",
   "name": "python",
   "nbconvert_exporter": "python",
   "pygments_lexer": "ipython3",
   "version": "3.8.6"
  }
 },
 "nbformat": 4,
 "nbformat_minor": 4
}
